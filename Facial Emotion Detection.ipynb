{
 "cells": [
  {
   "cell_type": "code",
   "execution_count": 1,
   "metadata": {},
   "outputs": [
    {
     "name": "stderr",
     "output_type": "stream",
     "text": [
      "C:\\Users\\Star\\Anaconda3\\lib\\site-packages\\scipy\\__init__.py:155: UserWarning: A NumPy version >=1.18.5 and <1.25.0 is required for this version of SciPy (detected version 1.26.1\n",
      "  warnings.warn(f\"A NumPy version >={np_minversion} and <{np_maxversion}\"\n"
     ]
    }
   ],
   "source": [
    "from keras.utils import to_categorical\n",
    "from keras_preprocessing.image import load_img\n",
    "from keras.models import Sequential\n",
    "from keras.layers import Dense, Conv2D, Dropout, Flatten, MaxPooling2D\n",
    "import os\n",
    "import pandas as pd\n",
    "import numpy as np"
   ]
  },
  {
   "cell_type": "code",
   "execution_count": 2,
   "metadata": {},
   "outputs": [],
   "source": [
    "TRAIN_DIR = 'images/train'\n",
    "TEST_DIR = 'images/test'"
   ]
  },
  {
   "cell_type": "code",
   "execution_count": 3,
   "metadata": {},
   "outputs": [],
   "source": [
    "def createdataframe(dir):\n",
    "    image_paths = []\n",
    "    labels = []\n",
    "    for label in os.listdir(dir):\n",
    "        for imagename in os.listdir(os.path.join(dir, label)):\n",
    "            image_paths.append(os.path.join(dir, label, imagename))\n",
    "            labels.append(label)\n",
    "        print(label, \"completed\")\n",
    "    return image_paths, labels"
   ]
  },
  {
   "cell_type": "code",
   "execution_count": 4,
   "metadata": {},
   "outputs": [
    {
     "name": "stdout",
     "output_type": "stream",
     "text": [
      "angry completed\n",
      "fear completed\n",
      "happy completed\n",
      "neutral completed\n",
      "sad completed\n",
      "surprise completed\n",
      "                              image     label\n",
      "0          images/train\\angry\\0.jpg     angry\n",
      "1          images/train\\angry\\1.jpg     angry\n",
      "2         images/train\\angry\\10.jpg     angry\n",
      "3       images/train\\angry\\1015.jpg     angry\n",
      "4       images/train\\angry\\1016.jpg     angry\n",
      "...                             ...       ...\n",
      "2231  images/train\\surprise\\894.jpg  surprise\n",
      "2232  images/train\\surprise\\909.jpg  surprise\n",
      "2233  images/train\\surprise\\960.jpg  surprise\n",
      "2234  images/train\\surprise\\964.jpg  surprise\n",
      "2235  images/train\\surprise\\972.jpg  surprise\n",
      "\n",
      "[2236 rows x 2 columns]\n"
     ]
    }
   ],
   "source": [
    "train = pd.DataFrame()\n",
    "train['image'], train['label'] = createdataframe(TRAIN_DIR)\n",
    "print(train)"
   ]
  },
  {
   "cell_type": "code",
   "execution_count": 5,
   "metadata": {},
   "outputs": [
    {
     "name": "stdout",
     "output_type": "stream",
     "text": [
      "angry completed\n",
      "fear completed\n",
      "happy completed\n",
      "neutral completed\n",
      "sad completed\n",
      "surprise completed\n",
      "                             image     label\n",
      "0       images/test\\angry\\1024.jpg     angry\n",
      "1       images/test\\angry\\1071.jpg     angry\n",
      "2       images/test\\angry\\1106.jpg     angry\n",
      "3       images/test\\angry\\1124.jpg     angry\n",
      "4       images/test\\angry\\1127.jpg     angry\n",
      "..                             ...       ...\n",
      "983  images/test\\surprise\\9806.jpg  surprise\n",
      "984  images/test\\surprise\\9830.jpg  surprise\n",
      "985  images/test\\surprise\\9853.jpg  surprise\n",
      "986  images/test\\surprise\\9878.jpg  surprise\n",
      "987   images/test\\surprise\\993.jpg  surprise\n",
      "\n",
      "[988 rows x 2 columns]\n"
     ]
    }
   ],
   "source": [
    "test = pd.DataFrame()\n",
    "test['image'], test['label'] = createdataframe(TEST_DIR)\n",
    "print(test)"
   ]
  },
  {
   "cell_type": "code",
   "execution_count": 6,
   "metadata": {},
   "outputs": [],
   "source": [
    "from tqdm.notebook import tqdm"
   ]
  },
  {
   "cell_type": "markdown",
   "metadata": {},
   "source": [
    "# Data Preprocessing"
   ]
  },
  {
   "cell_type": "code",
   "execution_count": 7,
   "metadata": {},
   "outputs": [],
   "source": [
    "def extract_features(images):\n",
    "    features = []\n",
    "    for image in tqdm(images):\n",
    "        img = load_img(image, grayscale=True)\n",
    "        img = np.array(img)\n",
    "        features.append(img)\n",
    "    features = np.array(features)\n",
    "    features = features.reshape(len(features), 48, 48, 1)\n",
    "    return features"
   ]
  },
  {
   "cell_type": "markdown",
   "metadata": {},
   "source": [
    "# Feature Extraction"
   ]
  },
  {
   "cell_type": "code",
   "execution_count": 8,
   "metadata": {},
   "outputs": [
    {
     "data": {
      "application/vnd.jupyter.widget-view+json": {
       "model_id": "039135ec491b4d00aee6834d7bd69fd2",
       "version_major": 2,
       "version_minor": 0
      },
      "text/plain": [
       "  0%|          | 0/2236 [00:00<?, ?it/s]"
      ]
     },
     "metadata": {},
     "output_type": "display_data"
    },
    {
     "name": "stderr",
     "output_type": "stream",
     "text": [
      "C:\\Users\\Star\\Anaconda3\\lib\\site-packages\\keras_preprocessing\\image\\utils.py:107: UserWarning: grayscale is deprecated. Please use color_mode = \"grayscale\"\n",
      "  warnings.warn('grayscale is deprecated. Please use '\n"
     ]
    },
    {
     "data": {
      "application/vnd.jupyter.widget-view+json": {
       "model_id": "83366961179c44838c211b6e6a8b5407",
       "version_major": 2,
       "version_minor": 0
      },
      "text/plain": [
       "  0%|          | 0/988 [00:00<?, ?it/s]"
      ]
     },
     "metadata": {},
     "output_type": "display_data"
    }
   ],
   "source": [
    "train_features = extract_features(train['image'])\n",
    "test_features = extract_features(test['image'])"
   ]
  },
  {
   "cell_type": "markdown",
   "metadata": {},
   "source": [
    "# Normalization"
   ]
  },
  {
   "cell_type": "code",
   "execution_count": 9,
   "metadata": {},
   "outputs": [],
   "source": [
    "x_train = train_features / 255.0\n",
    "x_test = test_features / 255.0"
   ]
  },
  {
   "cell_type": "code",
   "execution_count": 10,
   "metadata": {},
   "outputs": [],
   "source": [
    "from sklearn.preprocessing import LabelEncoder\n",
    "le = LabelEncoder()\n",
    "le.fit(train['label'])\n",
    "y_train = le.transform(train['label'])\n",
    "y_test = le.transform(test['label'])\n",
    "y_train = to_categorical(y_train, num_classes=7)\n",
    "y_test = to_categorical(y_test, num_classes=7)"
   ]
  },
  {
   "cell_type": "markdown",
   "metadata": {},
   "source": [
    "# Building the Neural Network Model"
   ]
  },
  {
   "cell_type": "code",
   "execution_count": 11,
   "metadata": {},
   "outputs": [],
   "source": [
    "# sequential model\n",
    "model = Sequential()\n",
    "\n",
    "# convolutional layers\n",
    "model.add(Conv2D(128, kernel_size=(3,3), activation='relu', input_shape=(48,48,1)))\n",
    "model.add(MaxPooling2D(pool_size=(2,2)))\n",
    "model.add(Dropout(0.4))\n",
    "\n",
    "model.add(Conv2D(256, kernel_size=(3,3), activation='relu'))\n",
    "model.add(MaxPooling2D(pool_size=(2,2)))\n",
    "model.add(Dropout(0.4))\n",
    "\n",
    "model.add(Conv2D(512, kernel_size=(3,3), activation='relu'))\n",
    "model.add(MaxPooling2D(pool_size=(2,2)))\n",
    "model.add(Dropout(0.4))\n",
    "\n",
    "model.add(Conv2D(512, kernel_size=(3,3), activation='relu'))\n",
    "model.add(MaxPooling2D(pool_size=(2,2)))\n",
    "model.add(Dropout(0.4))\n",
    "\n",
    "# flattening\n",
    "model.add(Flatten())\n",
    "\n",
    "# fully connected layers\n",
    "model.add(Dense(512, activation='relu'))\n",
    "model.add(Dropout(0.4))\n",
    "model.add(Dense(256, activation='relu'))\n",
    "model.add(Dropout(0.3))\n",
    "\n",
    "# output layer\n",
    "model.add(Dense(7, activation='softmax'))\n",
    "\n",
    "# model compilation\n",
    "model.compile(optimizer = 'adam', loss = 'categorical_crossentropy', metrics = 'accuracy' )\n",
    "\n"
   ]
  },
  {
   "cell_type": "markdown",
   "metadata": {},
   "source": [
    "# Training the Model"
   ]
  },
  {
   "cell_type": "code",
   "execution_count": 12,
   "metadata": {
    "scrolled": true
   },
   "outputs": [
    {
     "name": "stdout",
     "output_type": "stream",
     "text": [
      "Epoch 1/100\n",
      "18/18 [==============================] - 211s 11s/step - loss: 1.8464 - accuracy: 0.2084 - val_loss: 1.8841 - val_accuracy: 0.1296\n",
      "Epoch 2/100\n",
      "18/18 [==============================] - 207s 12s/step - loss: 1.7953 - accuracy: 0.2267 - val_loss: 1.8596 - val_accuracy: 0.1822\n",
      "Epoch 3/100\n",
      "18/18 [==============================] - 164s 9s/step - loss: 1.7850 - accuracy: 0.2379 - val_loss: 1.8521 - val_accuracy: 0.1822\n",
      "Epoch 4/100\n",
      "18/18 [==============================] - 148s 8s/step - loss: 1.7799 - accuracy: 0.2258 - val_loss: 1.8441 - val_accuracy: 0.1822\n",
      "Epoch 5/100\n",
      "18/18 [==============================] - 143s 8s/step - loss: 1.7838 - accuracy: 0.2227 - val_loss: 1.8483 - val_accuracy: 0.1822\n",
      "Epoch 6/100\n",
      "18/18 [==============================] - 137s 8s/step - loss: 1.7726 - accuracy: 0.2106 - val_loss: 1.8436 - val_accuracy: 0.1822\n",
      "Epoch 7/100\n",
      "18/18 [==============================] - 147s 8s/step - loss: 1.7771 - accuracy: 0.2272 - val_loss: 1.8462 - val_accuracy: 0.1822\n",
      "Epoch 8/100\n",
      "18/18 [==============================] - 150s 8s/step - loss: 1.7783 - accuracy: 0.2361 - val_loss: 1.8470 - val_accuracy: 0.1822\n",
      "Epoch 9/100\n",
      "18/18 [==============================] - 148s 8s/step - loss: 1.7726 - accuracy: 0.2312 - val_loss: 1.8471 - val_accuracy: 0.1822\n",
      "Epoch 10/100\n",
      "18/18 [==============================] - 147s 8s/step - loss: 1.7738 - accuracy: 0.2397 - val_loss: 1.8706 - val_accuracy: 0.1822\n",
      "Epoch 11/100\n",
      "18/18 [==============================] - 120s 7s/step - loss: 1.7709 - accuracy: 0.2285 - val_loss: 1.8197 - val_accuracy: 0.1822\n",
      "Epoch 12/100\n",
      "18/18 [==============================] - 120s 7s/step - loss: 1.7647 - accuracy: 0.2437 - val_loss: 1.8279 - val_accuracy: 0.1872\n",
      "Epoch 13/100\n",
      "18/18 [==============================] - 119s 7s/step - loss: 1.7683 - accuracy: 0.2388 - val_loss: 1.7881 - val_accuracy: 0.1862\n",
      "Epoch 14/100\n",
      "18/18 [==============================] - 118s 7s/step - loss: 1.7645 - accuracy: 0.2496 - val_loss: 1.8352 - val_accuracy: 0.1974\n",
      "Epoch 15/100\n",
      "18/18 [==============================] - 119s 7s/step - loss: 1.7602 - accuracy: 0.2464 - val_loss: 1.8023 - val_accuracy: 0.1923\n",
      "Epoch 16/100\n",
      "18/18 [==============================] - 119s 7s/step - loss: 1.7535 - accuracy: 0.2464 - val_loss: 1.7686 - val_accuracy: 0.1913\n",
      "Epoch 17/100\n",
      "18/18 [==============================] - 118s 7s/step - loss: 1.7485 - accuracy: 0.2482 - val_loss: 1.7892 - val_accuracy: 0.1913\n",
      "Epoch 18/100\n",
      "18/18 [==============================] - 119s 7s/step - loss: 1.7537 - accuracy: 0.2370 - val_loss: 1.8058 - val_accuracy: 0.1822\n",
      "Epoch 19/100\n",
      "18/18 [==============================] - 118s 7s/step - loss: 1.7449 - accuracy: 0.2339 - val_loss: 1.7064 - val_accuracy: 0.1812\n",
      "Epoch 20/100\n",
      "18/18 [==============================] - 118s 7s/step - loss: 1.7353 - accuracy: 0.2464 - val_loss: 1.7217 - val_accuracy: 0.3097\n",
      "Epoch 21/100\n",
      "18/18 [==============================] - 119s 7s/step - loss: 1.7212 - accuracy: 0.2612 - val_loss: 1.6125 - val_accuracy: 0.3937\n",
      "Epoch 22/100\n",
      "18/18 [==============================] - 119s 7s/step - loss: 1.7112 - accuracy: 0.2701 - val_loss: 1.5793 - val_accuracy: 0.4038\n",
      "Epoch 23/100\n",
      "18/18 [==============================] - 18524s 1089s/step - loss: 1.6949 - accuracy: 0.2867 - val_loss: 1.6295 - val_accuracy: 0.3715\n",
      "Epoch 24/100\n",
      "18/18 [==============================] - 122s 7s/step - loss: 1.6765 - accuracy: 0.2961 - val_loss: 1.6772 - val_accuracy: 0.3623\n",
      "Epoch 25/100\n",
      "18/18 [==============================] - 141s 8s/step - loss: 1.6553 - accuracy: 0.3157 - val_loss: 1.5600 - val_accuracy: 0.4130\n",
      "Epoch 26/100\n",
      "18/18 [==============================] - 129s 7s/step - loss: 1.6319 - accuracy: 0.3122 - val_loss: 1.6989 - val_accuracy: 0.3704\n",
      "Epoch 27/100\n",
      "18/18 [==============================] - 120s 7s/step - loss: 1.6164 - accuracy: 0.3318 - val_loss: 1.5611 - val_accuracy: 0.4362\n",
      "Epoch 28/100\n",
      "18/18 [==============================] - 337s 19s/step - loss: 1.5652 - accuracy: 0.3587 - val_loss: 1.5401 - val_accuracy: 0.4291\n",
      "Epoch 29/100\n",
      "18/18 [==============================] - 139s 8s/step - loss: 1.5755 - accuracy: 0.3716 - val_loss: 1.5493 - val_accuracy: 0.4079\n",
      "Epoch 30/100\n",
      "18/18 [==============================] - 140s 8s/step - loss: 1.5314 - accuracy: 0.3895 - val_loss: 1.5331 - val_accuracy: 0.4403\n",
      "Epoch 31/100\n",
      "18/18 [==============================] - 147s 8s/step - loss: 1.4958 - accuracy: 0.4123 - val_loss: 1.4826 - val_accuracy: 0.4686\n",
      "Epoch 32/100\n",
      "18/18 [==============================] - 158s 9s/step - loss: 1.4622 - accuracy: 0.4065 - val_loss: 1.4229 - val_accuracy: 0.4777\n",
      "Epoch 33/100\n",
      "18/18 [==============================] - 138s 8s/step - loss: 1.4617 - accuracy: 0.4182 - val_loss: 1.3455 - val_accuracy: 0.5121\n",
      "Epoch 34/100\n",
      "18/18 [==============================] - 132s 7s/step - loss: 1.4143 - accuracy: 0.4396 - val_loss: 1.4946 - val_accuracy: 0.4534\n",
      "Epoch 35/100\n",
      "18/18 [==============================] - 131s 7s/step - loss: 1.4085 - accuracy: 0.4262 - val_loss: 1.5269 - val_accuracy: 0.4453\n",
      "Epoch 36/100\n",
      "18/18 [==============================] - 132s 7s/step - loss: 1.3514 - accuracy: 0.4490 - val_loss: 1.4547 - val_accuracy: 0.4534\n",
      "Epoch 37/100\n",
      "18/18 [==============================] - 130s 7s/step - loss: 1.3406 - accuracy: 0.4767 - val_loss: 1.3931 - val_accuracy: 0.4767\n",
      "Epoch 38/100\n",
      "18/18 [==============================] - 132s 7s/step - loss: 1.3111 - accuracy: 0.4875 - val_loss: 1.2902 - val_accuracy: 0.5101\n",
      "Epoch 39/100\n",
      "18/18 [==============================] - 130s 7s/step - loss: 1.2486 - accuracy: 0.5161 - val_loss: 1.4544 - val_accuracy: 0.4504\n",
      "Epoch 40/100\n",
      "18/18 [==============================] - 133s 7s/step - loss: 1.2623 - accuracy: 0.5170 - val_loss: 1.5054 - val_accuracy: 0.4332\n",
      "Epoch 41/100\n",
      "18/18 [==============================] - 131s 7s/step - loss: 1.2101 - accuracy: 0.5259 - val_loss: 1.3402 - val_accuracy: 0.5132\n",
      "Epoch 42/100\n",
      "18/18 [==============================] - 131s 7s/step - loss: 1.1973 - accuracy: 0.5353 - val_loss: 1.3396 - val_accuracy: 0.4970\n",
      "Epoch 43/100\n",
      "18/18 [==============================] - 158s 9s/step - loss: 1.1600 - accuracy: 0.5568 - val_loss: 1.3100 - val_accuracy: 0.5081\n",
      "Epoch 44/100\n",
      "18/18 [==============================] - 149s 8s/step - loss: 1.1238 - accuracy: 0.5702 - val_loss: 1.3505 - val_accuracy: 0.4808\n",
      "Epoch 45/100\n",
      "18/18 [==============================] - 123s 7s/step - loss: 1.0701 - accuracy: 0.6011 - val_loss: 1.3962 - val_accuracy: 0.4909\n",
      "Epoch 46/100\n",
      "18/18 [==============================] - 130s 7s/step - loss: 1.0643 - accuracy: 0.6051 - val_loss: 1.3929 - val_accuracy: 0.4939\n",
      "Epoch 47/100\n",
      "18/18 [==============================] - 125s 7s/step - loss: 1.0166 - accuracy: 0.6145 - val_loss: 1.3843 - val_accuracy: 0.4747\n",
      "Epoch 48/100\n",
      "18/18 [==============================] - 123s 7s/step - loss: 0.9908 - accuracy: 0.6225 - val_loss: 1.3724 - val_accuracy: 0.5283\n",
      "Epoch 49/100\n",
      "18/18 [==============================] - 123s 7s/step - loss: 0.9242 - accuracy: 0.6507 - val_loss: 1.4406 - val_accuracy: 0.4970\n",
      "Epoch 50/100\n",
      "18/18 [==============================] - 126s 7s/step - loss: 0.9254 - accuracy: 0.6436 - val_loss: 1.4907 - val_accuracy: 0.4828\n",
      "Epoch 51/100\n",
      "18/18 [==============================] - 122s 7s/step - loss: 0.9110 - accuracy: 0.6655 - val_loss: 1.4066 - val_accuracy: 0.5344\n",
      "Epoch 52/100\n",
      "18/18 [==============================] - 121s 7s/step - loss: 0.8592 - accuracy: 0.6928 - val_loss: 1.4270 - val_accuracy: 0.5142\n",
      "Epoch 53/100\n",
      "18/18 [==============================] - 126s 7s/step - loss: 0.7948 - accuracy: 0.7044 - val_loss: 1.4837 - val_accuracy: 0.4879\n",
      "Epoch 54/100\n",
      "18/18 [==============================] - 123s 7s/step - loss: 0.8312 - accuracy: 0.6843 - val_loss: 1.3521 - val_accuracy: 0.5304\n",
      "Epoch 55/100\n",
      "18/18 [==============================] - 130s 7s/step - loss: 0.7561 - accuracy: 0.7187 - val_loss: 1.4073 - val_accuracy: 0.5162\n",
      "Epoch 56/100\n",
      "18/18 [==============================] - 120s 7s/step - loss: 0.7164 - accuracy: 0.7348 - val_loss: 1.4885 - val_accuracy: 0.5213\n",
      "Epoch 57/100\n",
      "18/18 [==============================] - 120s 7s/step - loss: 0.7049 - accuracy: 0.7469 - val_loss: 1.6366 - val_accuracy: 0.4737\n",
      "Epoch 58/100\n",
      "18/18 [==============================] - 120s 7s/step - loss: 0.6538 - accuracy: 0.7607 - val_loss: 1.6407 - val_accuracy: 0.4929\n",
      "Epoch 59/100\n",
      "18/18 [==============================] - 122s 7s/step - loss: 0.6380 - accuracy: 0.7706 - val_loss: 1.6401 - val_accuracy: 0.4777\n",
      "Epoch 60/100\n",
      "18/18 [==============================] - 121s 7s/step - loss: 0.6312 - accuracy: 0.7630 - val_loss: 1.6805 - val_accuracy: 0.4980\n",
      "Epoch 61/100\n",
      "18/18 [==============================] - 120s 7s/step - loss: 0.6048 - accuracy: 0.7750 - val_loss: 1.6066 - val_accuracy: 0.4929\n",
      "Epoch 62/100\n",
      "18/18 [==============================] - 119s 7s/step - loss: 0.5779 - accuracy: 0.7889 - val_loss: 1.6194 - val_accuracy: 0.5192\n",
      "Epoch 63/100\n",
      "18/18 [==============================] - 119s 7s/step - loss: 0.5478 - accuracy: 0.7983 - val_loss: 1.8107 - val_accuracy: 0.4777\n",
      "Epoch 64/100\n",
      "18/18 [==============================] - 121s 7s/step - loss: 0.6412 - accuracy: 0.7688 - val_loss: 1.7378 - val_accuracy: 0.4545\n",
      "Epoch 65/100\n",
      "18/18 [==============================] - 156s 9s/step - loss: 0.5242 - accuracy: 0.8189 - val_loss: 1.7470 - val_accuracy: 0.4889\n",
      "Epoch 66/100\n",
      "18/18 [==============================] - 148s 8s/step - loss: 0.5086 - accuracy: 0.8198 - val_loss: 1.7425 - val_accuracy: 0.5121\n",
      "Epoch 67/100\n",
      "18/18 [==============================] - 141s 8s/step - loss: 0.5136 - accuracy: 0.8135 - val_loss: 1.7433 - val_accuracy: 0.5142\n",
      "Epoch 68/100\n",
      "18/18 [==============================] - 176s 10s/step - loss: 0.4577 - accuracy: 0.8386 - val_loss: 1.7985 - val_accuracy: 0.4858\n",
      "Epoch 69/100\n",
      "18/18 [==============================] - 129s 7s/step - loss: 0.4634 - accuracy: 0.8412 - val_loss: 1.9904 - val_accuracy: 0.4646\n",
      "Epoch 70/100\n",
      "18/18 [==============================] - 176s 10s/step - loss: 0.4387 - accuracy: 0.8430 - val_loss: 1.8182 - val_accuracy: 0.4960\n",
      "Epoch 71/100\n",
      "18/18 [==============================] - 132s 7s/step - loss: 0.4507 - accuracy: 0.8511 - val_loss: 1.7703 - val_accuracy: 0.4747\n",
      "Epoch 72/100\n",
      "18/18 [==============================] - 136s 8s/step - loss: 0.4179 - accuracy: 0.8524 - val_loss: 1.7529 - val_accuracy: 0.5071\n",
      "Epoch 73/100\n",
      "18/18 [==============================] - 133s 7s/step - loss: 0.3992 - accuracy: 0.8631 - val_loss: 1.7221 - val_accuracy: 0.5172\n",
      "Epoch 74/100\n",
      "18/18 [==============================] - 132s 7s/step - loss: 0.3689 - accuracy: 0.8766 - val_loss: 1.8097 - val_accuracy: 0.5111\n",
      "Epoch 75/100\n",
      "18/18 [==============================] - 137s 8s/step - loss: 0.3687 - accuracy: 0.8640 - val_loss: 1.9306 - val_accuracy: 0.4787\n",
      "Epoch 76/100\n",
      "18/18 [==============================] - 133s 7s/step - loss: 0.3393 - accuracy: 0.8869 - val_loss: 1.9196 - val_accuracy: 0.4980\n",
      "Epoch 77/100\n",
      "18/18 [==============================] - 137s 8s/step - loss: 0.3671 - accuracy: 0.8716 - val_loss: 1.8180 - val_accuracy: 0.5152\n",
      "Epoch 78/100\n",
      "18/18 [==============================] - 136s 8s/step - loss: 0.3568 - accuracy: 0.8752 - val_loss: 1.8871 - val_accuracy: 0.4919\n",
      "Epoch 79/100\n",
      "18/18 [==============================] - 137s 8s/step - loss: 0.3466 - accuracy: 0.8801 - val_loss: 1.8806 - val_accuracy: 0.4919\n",
      "Epoch 80/100\n",
      "18/18 [==============================] - 138s 8s/step - loss: 0.3379 - accuracy: 0.8748 - val_loss: 1.9402 - val_accuracy: 0.4919\n",
      "Epoch 81/100\n",
      "18/18 [==============================] - 140s 8s/step - loss: 0.3137 - accuracy: 0.8927 - val_loss: 1.9380 - val_accuracy: 0.4990\n",
      "Epoch 82/100\n",
      "18/18 [==============================] - 135s 8s/step - loss: 0.3444 - accuracy: 0.8877 - val_loss: 1.9495 - val_accuracy: 0.4909\n",
      "Epoch 83/100\n",
      "18/18 [==============================] - 139s 8s/step - loss: 0.2891 - accuracy: 0.9030 - val_loss: 2.0882 - val_accuracy: 0.4757\n",
      "Epoch 84/100\n",
      "18/18 [==============================] - 139s 8s/step - loss: 0.3084 - accuracy: 0.8998 - val_loss: 2.0092 - val_accuracy: 0.4727\n",
      "Epoch 85/100\n",
      "18/18 [==============================] - 138s 8s/step - loss: 0.2920 - accuracy: 0.9021 - val_loss: 1.9520 - val_accuracy: 0.4737\n",
      "Epoch 86/100\n",
      "18/18 [==============================] - 137s 8s/step - loss: 0.2724 - accuracy: 0.9146 - val_loss: 2.0142 - val_accuracy: 0.4818\n",
      "Epoch 87/100\n",
      "18/18 [==============================] - 135s 8s/step - loss: 0.3048 - accuracy: 0.8922 - val_loss: 1.9280 - val_accuracy: 0.4818\n",
      "Epoch 88/100\n",
      "18/18 [==============================] - 143s 8s/step - loss: 0.2500 - accuracy: 0.9182 - val_loss: 1.9955 - val_accuracy: 0.4939\n",
      "Epoch 89/100\n",
      "18/18 [==============================] - 145s 8s/step - loss: 0.2693 - accuracy: 0.9047 - val_loss: 2.0563 - val_accuracy: 0.4919\n",
      "Epoch 90/100\n",
      "18/18 [==============================] - 192s 11s/step - loss: 0.2412 - accuracy: 0.9199 - val_loss: 2.0124 - val_accuracy: 0.5101\n",
      "Epoch 91/100\n",
      "18/18 [==============================] - 178s 10s/step - loss: 0.2478 - accuracy: 0.9173 - val_loss: 2.0905 - val_accuracy: 0.4767\n",
      "Epoch 92/100\n",
      "18/18 [==============================] - 189s 10s/step - loss: 0.2518 - accuracy: 0.9177 - val_loss: 1.9873 - val_accuracy: 0.5071\n",
      "Epoch 93/100\n",
      "18/18 [==============================] - 203s 11s/step - loss: 0.2380 - accuracy: 0.9217 - val_loss: 2.2907 - val_accuracy: 0.4717\n",
      "Epoch 94/100\n",
      "18/18 [==============================] - 188s 10s/step - loss: 0.2543 - accuracy: 0.9231 - val_loss: 1.9886 - val_accuracy: 0.4980\n",
      "Epoch 95/100\n",
      "18/18 [==============================] - 174s 10s/step - loss: 0.2461 - accuracy: 0.9208 - val_loss: 2.1809 - val_accuracy: 0.4960\n",
      "Epoch 96/100\n",
      "18/18 [==============================] - 204s 12s/step - loss: 0.2268 - accuracy: 0.9186 - val_loss: 2.1409 - val_accuracy: 0.5040\n",
      "Epoch 97/100\n",
      "18/18 [==============================] - 180s 10s/step - loss: 0.2193 - accuracy: 0.9289 - val_loss: 2.0117 - val_accuracy: 0.5243\n",
      "Epoch 98/100\n",
      "18/18 [==============================] - 183s 10s/step - loss: 0.2322 - accuracy: 0.9208 - val_loss: 1.9792 - val_accuracy: 0.5040\n",
      "Epoch 99/100\n",
      "18/18 [==============================] - 188s 11s/step - loss: 0.2156 - accuracy: 0.9258 - val_loss: 2.2116 - val_accuracy: 0.4919\n",
      "Epoch 100/100\n",
      "18/18 [==============================] - 169s 9s/step - loss: 0.2020 - accuracy: 0.9311 - val_loss: 2.1902 - val_accuracy: 0.5162\n"
     ]
    },
    {
     "data": {
      "text/plain": [
       "<keras.src.callbacks.History at 0x1aca93061f0>"
      ]
     },
     "execution_count": 12,
     "metadata": {},
     "output_type": "execute_result"
    }
   ],
   "source": [
    "model.fit(x=x_train, y=y_train, batch_size=128, epochs=100, validation_data=(x_test, y_test))"
   ]
  },
  {
   "cell_type": "markdown",
   "metadata": {},
   "source": [
    "# Saving the Model"
   ]
  },
  {
   "cell_type": "code",
   "execution_count": 13,
   "metadata": {},
   "outputs": [
    {
     "name": "stderr",
     "output_type": "stream",
     "text": [
      "C:\\Users\\Star\\Anaconda3\\lib\\site-packages\\keras\\src\\engine\\training.py:3000: UserWarning: You are saving your model as an HDF5 file via `model.save()`. This file format is considered legacy. We recommend using instead the native Keras format, e.g. `model.save('my_model.keras')`.\n",
      "  saving_api.save_model(\n"
     ]
    }
   ],
   "source": [
    "model_json = model.to_json()\n",
    "with open(\"emotiondetector.json\", 'w') as json_file:\n",
    "    json_file.write(model_json)\n",
    "model.save(\"emotiondetector.h5\")"
   ]
  },
  {
   "cell_type": "code",
   "execution_count": null,
   "metadata": {},
   "outputs": [],
   "source": []
  },
  {
   "cell_type": "code",
   "execution_count": null,
   "metadata": {},
   "outputs": [],
   "source": []
  }
 ],
 "metadata": {
  "kernelspec": {
   "display_name": "Python 3 (ipykernel)",
   "language": "python",
   "name": "python3"
  },
  "language_info": {
   "codemirror_mode": {
    "name": "ipython",
    "version": 3
   },
   "file_extension": ".py",
   "mimetype": "text/x-python",
   "name": "python",
   "nbconvert_exporter": "python",
   "pygments_lexer": "ipython3",
   "version": "3.9.13"
  }
 },
 "nbformat": 4,
 "nbformat_minor": 2
}
